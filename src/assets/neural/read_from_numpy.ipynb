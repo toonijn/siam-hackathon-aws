{
 "cells": [
  {
   "cell_type": "code",
   "execution_count": 19,
   "metadata": {
    "execution": {
     "iopub.execute_input": "2023-02-26T00:15:12.870598Z",
     "iopub.status.busy": "2023-02-26T00:15:12.868952Z",
     "iopub.status.idle": "2023-02-26T00:15:12.917425Z",
     "shell.execute_reply": "2023-02-26T00:15:12.913630Z",
     "shell.execute_reply.started": "2023-02-26T00:15:12.870516Z"
    }
   },
   "outputs": [],
   "source": [
    "import numpy as np\n",
    "import json\n",
    "\n",
    "layers = []\n",
    "for i in \"123\":\n",
    "    A = np.loadtxt(f\"smaller_network/A_{i}.txt\")\n",
    "    b = np.loadtxt(f\"smaller_network/b_{i}.txt\")\n",
    "    if len(A.shape) == 1:\n",
    "        A = np.expand_dims(A, 0)\n",
    "        b = [b]\n",
    "        act = 'none'\n",
    "    else:\n",
    "        act = 'elu'\n",
    "        \n",
    "    layers.append({\n",
    "        'weights': list(map(tuple, A)),\n",
    "        'biases': list(map(float, b)),\n",
    "        'activation': act\n",
    "    })\n",
    "\n",
    "with open('temperature_net.json', 'w') as t:\n",
    "    json.dump(layers, t)"
   ]
  },
  {
   "cell_type": "code",
   "execution_count": null,
   "metadata": {},
   "outputs": [],
   "source": []
  }
 ],
 "metadata": {
  "kernelspec": {
   "display_name": "Python3.10",
   "language": "python",
   "name": "python3.10"
  },
  "language_info": {
   "codemirror_mode": {
    "name": "ipython",
    "version": 3
   },
   "file_extension": ".py",
   "mimetype": "text/x-python",
   "name": "python",
   "nbconvert_exporter": "python",
   "pygments_lexer": "ipython3",
   "version": "3.10.10"
  }
 },
 "nbformat": 4,
 "nbformat_minor": 4
}
